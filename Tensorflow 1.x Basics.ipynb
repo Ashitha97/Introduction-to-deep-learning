{
 "cells": [
  {
   "cell_type": "code",
   "execution_count": 9,
   "metadata": {},
   "outputs": [],
   "source": [
    "import tensorflow as tf"
   ]
  },
  {
   "cell_type": "code",
   "execution_count": 10,
   "metadata": {},
   "outputs": [
    {
     "data": {
      "text/plain": [
       "'1.14.0'"
      ]
     },
     "execution_count": 10,
     "metadata": {},
     "output_type": "execute_result"
    }
   ],
   "source": [
    "tf.__version__"
   ]
  },
  {
   "cell_type": "code",
   "execution_count": 11,
   "metadata": {},
   "outputs": [
    {
     "name": "stdout",
     "output_type": "stream",
     "text": [
      "b'Hello world'\n"
     ]
    }
   ],
   "source": [
    "#creating a constant variable, where we cannot change the value\n",
    "a=tf.constant('Hello world')  \n",
    "\n",
    "#session allows to allocate resourses\n",
    "#in tensorflow 1 there was a provision to exexute this session\"\n",
    "with tf.Session() as sess:\n",
    "    \n",
    "    # we have to run the a in the session\n",
    "    \n",
    "    output=sess.run(a)\n",
    "    print(output)"
   ]
  },
  {
   "cell_type": "code",
   "execution_count": 15,
   "metadata": {},
   "outputs": [
    {
     "name": "stdout",
     "output_type": "stream",
     "text": [
      "Bangalore\n",
      "123.0\n",
      "Chennai\n"
     ]
    }
   ],
   "source": [
    "##placeholder\n",
    "\n",
    "x=tf.placeholder(tf.string)\n",
    "y=tf.placeholder(tf.float32)\n",
    "z=tf.placeholder(tf.int32)\n",
    "\n",
    "with tf.Session() as sess:\n",
    "    output_x=sess.run(x,feed_dict={x:'Bangalore'})\n",
    "    output_y=sess.run(y,feed_dict={x:'Test string',y:123,z:45})\n",
    "    output_z=sess.run(x,feed_dict={x:'Chennai',y:78})\n",
    "    print(output_x)\n",
    "    print(output_y)\n",
    "    print(output_z)"
   ]
  },
  {
   "cell_type": "code",
   "execution_count": 16,
   "metadata": {},
   "outputs": [
    {
     "name": "stdout",
     "output_type": "stream",
     "text": [
      "9\n"
     ]
    }
   ],
   "source": [
    "##Tensorflow math\n",
    "##addition\n",
    "x=tf.add(5,4)\n",
    "with tf.Session() as sess:\n",
    "    print(sess.run(x))"
   ]
  },
  {
   "cell_type": "code",
   "execution_count": 18,
   "metadata": {},
   "outputs": [
    {
     "name": "stdout",
     "output_type": "stream",
     "text": [
      "16\n",
      "42\n"
     ]
    }
   ],
   "source": [
    "## subtraction and mutiplication\n",
    "y=tf.subtract(22,6)\n",
    "z=tf.multiply(6,7)\n",
    "with tf.Session() as sess:\n",
    "    print(sess.run(y))\n",
    "    print(sess.run(z))"
   ]
  },
  {
   "cell_type": "code",
   "execution_count": 21,
   "metadata": {},
   "outputs": [
    {
     "name": "stdout",
     "output_type": "stream",
     "text": [
      "3.0\n"
     ]
    }
   ],
   "source": [
    "#Example\n",
    "x=tf.constant(20)\n",
    "y=tf.constant(5)\n",
    "z=tf.subtract(tf.divide(x,y),1)\n",
    "with tf.Session() as sess:\n",
    "    print(sess.run(z))\n"
   ]
  },
  {
   "cell_type": "markdown",
   "metadata": {},
   "source": [
    "## Tensorflow linear functions\n",
    "\n",
    "- variables means we can change dyring the runtime, unlike in placeholders and constant\n",
    "- example weights in a neural network we need to change , variable can be used"
   ]
  },
  {
   "cell_type": "code",
   "execution_count": 23,
   "metadata": {},
   "outputs": [],
   "source": [
    "x=tf.Variable(3)"
   ]
  },
  {
   "cell_type": "code",
   "execution_count": 25,
   "metadata": {},
   "outputs": [],
   "source": [
    "#to run we need to initialize global variables\n",
    "#in tensorflow 2.x we domt have this initializer\n",
    "\n",
    "init=tf.global_variables_initializer()\n",
    "with tf.Session() as sess:\n",
    "    sess.run(init)"
   ]
  },
  {
   "cell_type": "code",
   "execution_count": 36,
   "metadata": {},
   "outputs": [],
   "source": [
    "## Here the truncated_normal function tries to create random values from a  normal distribution\n",
    "#Here it gives random values of shape 120X5"
   ]
  },
  {
   "cell_type": "code",
   "execution_count": 32,
   "metadata": {},
   "outputs": [
    {
     "name": "stdout",
     "output_type": "stream",
     "text": [
      "[[-0.03280108  0.93128866 -1.0955707   0.00528474  0.1032751 ]\n",
      " [ 0.20335768  1.8620477   0.60354304  0.22980161 -0.12271761]\n",
      " [ 0.92973423  1.6064893  -0.9637891  -0.55069923  0.35283238]\n",
      " [ 0.26762328 -0.3957463   1.5776665  -0.0965739  -0.9074353 ]\n",
      " [-1.2676735   0.17185478  0.7141409   0.35563064  1.2671201 ]\n",
      " [-0.9890567   0.1410396   1.2332644   0.19608672 -0.9009068 ]\n",
      " [ 1.2097765   0.94382066  0.13171664 -0.2883257  -1.2557821 ]\n",
      " [-0.60269696  0.22506972  0.31886065  0.5082559  -0.31618556]\n",
      " [ 0.84832376 -0.25978342  0.3719741   0.63261694 -0.30727077]\n",
      " [-0.34774086  0.12768422  1.2530209  -0.69410473  0.949584  ]\n",
      " [ 0.26976663 -0.3246252  -1.5376495   1.2184875   0.04851024]\n",
      " [ 1.8266389   0.76619273 -0.90498906 -0.06729276  0.84264547]\n",
      " [ 0.65441924 -0.6700948   0.14413378 -0.8198434   1.7159365 ]\n",
      " [-0.49807924 -0.62096     0.3410227   0.4141406  -1.1959038 ]\n",
      " [-1.3480603   0.32087645 -0.31035188 -0.28852648  0.35835037]\n",
      " [-0.4168756  -0.8074293   0.4944489   0.19676077  0.9068597 ]\n",
      " [ 1.4226118   0.62341434 -0.4684578  -0.10115605 -0.698912  ]\n",
      " [ 0.6227091   0.13241096  0.575436   -1.8288167   1.2014585 ]\n",
      " [-0.85322237  1.2783276  -1.2568516   0.5971892   0.4695481 ]\n",
      " [ 1.0634542   0.51714915  0.06824965  1.4850649  -0.29256922]\n",
      " [ 0.260004    0.10808845  1.7851586  -0.01402119  0.39333734]\n",
      " [ 1.4038396  -0.1723713  -0.10924914  1.2831093   1.7922142 ]\n",
      " [-0.48338646  0.3313274   0.443514    0.8002165  -0.21406527]\n",
      " [ 1.0900017   1.2108215   0.9756184  -0.30961242  1.3393946 ]\n",
      " [-0.2534853   1.4044349   1.4368656  -0.8878784  -1.5792067 ]\n",
      " [ 0.44394162 -1.1211418  -0.8650428  -0.24221407  0.45686835]\n",
      " [-0.3055146   0.9477439  -0.9931941  -0.45099494  0.2686695 ]\n",
      " [ 0.43225443 -0.89621115  0.6556204  -0.7860245  -0.26601148]\n",
      " [ 0.30250862 -1.7568915  -0.10719059 -0.27619436 -1.7886882 ]\n",
      " [-0.68435407  0.14743264 -1.3438499   1.2670215   1.299893  ]\n",
      " [-0.9790515   1.695572    0.89572203  0.39473662 -1.1590223 ]\n",
      " [-1.1052747   1.3538964   1.3520643   1.1738498   0.2517359 ]\n",
      " [-1.1142257   0.40545532  0.4081048   0.02577732 -0.4348552 ]\n",
      " [-1.2378134  -0.6647914   0.35331416 -0.07811614 -1.7906984 ]\n",
      " [ 0.720615   -0.08135422  0.2543443   0.88067955 -0.25013685]\n",
      " [-0.95603466 -0.1746625   0.5089767   1.9212456   1.1635052 ]\n",
      " [ 0.4360927   1.4747463  -1.6828473   0.7526727   0.23918337]\n",
      " [ 0.26831573  0.21071719 -0.7111058  -0.6935262   1.4442986 ]\n",
      " [-0.33241156 -0.37408358  0.63562906  0.723814    0.39396444]\n",
      " [-0.1744898   1.0605714   0.40299496  1.2048882   0.22183104]\n",
      " [ 0.3633759  -0.33767414  0.1280343   1.2364168   1.1078293 ]\n",
      " [ 0.7488635   0.74714196 -0.44222513  0.4009742  -1.1751316 ]\n",
      " [ 0.58944005 -0.6507482  -0.5859371  -0.6054531   1.110749  ]\n",
      " [ 0.4633658   0.32956558 -0.02169782 -1.0346994   1.3162491 ]\n",
      " [-0.12538071 -0.07316604 -0.22948882 -0.6677023   0.80489355]\n",
      " [ 0.05250589  0.59833044 -0.2699602  -0.94622606  1.4345672 ]\n",
      " [-0.09445915 -0.43888572 -0.8467761   1.5391289  -0.6579835 ]\n",
      " [-0.9426749  -0.6213543  -0.3929095   0.3794081   1.6430511 ]\n",
      " [-1.5787133  -0.14248508 -0.33688042 -1.5305808  -0.9143315 ]\n",
      " [-0.56417936 -0.26047364  0.96349967  0.935433    0.62900877]\n",
      " [-0.44213292  1.328686   -0.7924714  -0.24420735  0.29590538]\n",
      " [ 0.15836139 -0.2643981   0.5149155   0.9519142   1.6671598 ]\n",
      " [ 0.24300314  0.80129     0.28730223 -1.1273398   0.6919506 ]\n",
      " [ 0.12529884  1.4262586   0.75280976 -0.555458    0.42827833]\n",
      " [ 1.5873151   0.7913192  -0.6071354   0.3444705   1.4437621 ]\n",
      " [-0.9775517  -0.36320835  1.7133799  -0.8155931   1.0928452 ]\n",
      " [-0.319163    1.1159747  -0.8014477   0.23253141 -0.00487398]\n",
      " [-0.05396203 -0.63159233  0.28609625 -0.5260778  -1.9640971 ]\n",
      " [ 1.0619208   0.2371214  -1.1755277   1.3625203   0.1896948 ]\n",
      " [ 0.2153651  -1.0202837  -0.2936074  -1.2682188  -0.47794133]\n",
      " [ 0.09069803 -0.26730004  0.6160793  -1.5879519  -0.4840071 ]\n",
      " [ 1.7852768  -0.33236712  0.58894306  0.01064351 -0.7390982 ]\n",
      " [-0.28078136 -0.41262493 -0.8065886   0.52568024 -0.29719076]\n",
      " [ 0.39939696 -0.17311688 -0.69468343  0.08949512  0.53059196]\n",
      " [ 1.0179409  -0.00307805  1.1869819  -0.29452145  0.30357468]\n",
      " [ 0.35367143 -0.49013203  0.35366422 -1.7822639   0.15939155]\n",
      " [-1.3678719  -0.3865137   0.3943035   0.08524661 -1.0109397 ]\n",
      " [ 0.6394815   1.2677138   1.2794932   1.5235088  -0.3587936 ]\n",
      " [ 0.0293605  -1.2182847   1.2955586  -0.9600202   0.8049576 ]\n",
      " [-1.2272067  -0.43467015 -0.68882406 -1.5749449   1.3006799 ]\n",
      " [-0.30252874  0.21824172 -0.9834163   0.2984527  -0.51809436]\n",
      " [-0.7205482   0.04121104 -0.7838383  -0.9434547   1.1886684 ]\n",
      " [-0.49014425  0.0791778   1.2565632   0.224265   -0.3938212 ]\n",
      " [ 0.44376248 -0.25996143 -0.4718001   0.57822835  1.1219606 ]\n",
      " [ 1.0628605  -0.9011359  -1.6169746   0.1650886   1.4521829 ]\n",
      " [-0.980484   -0.13264883 -0.22841577 -0.9050972   1.0110036 ]\n",
      " [-1.5570544   0.47174796 -1.3158368  -0.30452257  0.14838962]\n",
      " [-0.219256    0.6379068  -1.6739172  -0.39365774  0.79852223]\n",
      " [-0.33977523 -1.617699   -0.2306337  -0.4692812  -0.8008017 ]\n",
      " [ 0.93239844  0.75770503 -0.3034674   0.71990037  1.5157167 ]\n",
      " [-0.40778092  0.70288634  0.6549316  -0.7659226  -1.5205865 ]\n",
      " [ 0.5015041  -1.4301162   1.2583536   1.138945   -0.0645982 ]\n",
      " [ 1.3682061   0.1466727  -1.0099751   0.4381646   1.7409941 ]\n",
      " [-1.0874405  -0.09951903  0.64309883  0.6677255  -0.03038819]\n",
      " [-0.50053406 -0.19437099  0.0085788  -0.33644867 -0.91447264]\n",
      " [ 1.9839768   1.2576016  -0.6693385   1.8978188  -1.4668924 ]\n",
      " [ 0.24573421  0.92509055  0.4122993  -0.14810787 -0.5098106 ]\n",
      " [ 0.8895914   0.66413534  1.1255851   0.21531448  1.6942253 ]\n",
      " [-1.7024682   1.1102796   0.5887435   0.395159    0.8197857 ]\n",
      " [-0.38463408  0.9829109  -0.66683704 -1.5835247   0.35844672]\n",
      " [ 1.9092994   0.9331121  -0.8438758   1.8935152  -0.30192187]\n",
      " [-0.3952435  -0.9662885   0.8877412  -0.55401427 -0.21646112]\n",
      " [-0.34425068  0.65980387 -0.37335363  0.13828345  1.7344986 ]\n",
      " [ 0.7288632  -1.2855245  -1.0680059   0.02976488 -0.50739205]\n",
      " [ 1.5949596  -0.42782605 -0.06224757  1.7007952   0.85419524]\n",
      " [-0.59287155 -0.1677925  -1.5932167  -0.27792847  0.74125004]\n",
      " [-0.23055625 -1.0718625  -1.1941913   0.50561786  0.91658723]\n",
      " [ 1.6675105   1.4623641   0.57674384 -1.7894971   1.4172605 ]\n",
      " [-0.04197332 -1.1509762   0.23712374 -0.2053614   1.0474516 ]\n",
      " [ 1.4969709   1.101749    0.25676078  0.03322307  0.378982  ]\n",
      " [ 0.16207854 -0.2463899   1.2870343  -0.36827305  0.8420429 ]\n",
      " [-1.670708    0.24637398 -1.1762705   0.6206328   0.48720053]\n",
      " [ 1.0327373  -0.01736205 -0.9147339  -0.75964063  1.4600265 ]\n",
      " [ 0.11954328 -1.0601326   0.15680479 -1.6042489  -0.09154849]\n",
      " [ 0.7902037  -0.08904505  1.0023897   1.7801969  -0.1580488 ]\n",
      " [-0.18324775 -1.0299076   0.9739959   1.2174903   1.5254825 ]\n",
      " [-0.3023148  -1.0360405   1.1960073   1.2055084   0.6307143 ]\n",
      " [-0.08207957  0.16738273 -1.5861516   1.8751763  -0.31382138]\n",
      " [-1.080414   -0.01406369  0.07288903 -0.42599118 -0.3902079 ]\n",
      " [ 0.10066791 -0.84530604 -0.45419395 -0.08006116  1.0275733 ]\n",
      " [ 0.15843879 -1.2845472  -1.4671959  -0.19476621 -0.05341718]\n",
      " [-0.95193726  0.98543704  0.45787865  0.05652691  1.8879879 ]\n",
      " [-0.8010929   0.03913742  0.9126277  -0.94757485 -0.14181674]\n",
      " [ 0.04599274  1.5032066  -1.0146708  -1.2847985  -0.57685953]\n",
      " [-0.80884826 -0.07196997  0.00297146 -1.071582   -0.31224543]\n",
      " [-0.4949303  -1.1896764   1.573869    1.0344596  -0.03077886]\n",
      " [-0.9042665   1.3396013   0.8425301  -0.38275924 -0.5970288 ]\n",
      " [ 0.10280214  0.43034893 -0.09033766  0.7922453  -0.731041  ]\n",
      " [ 0.15673475  0.8524038  -0.9473623   0.61897224  1.2697184 ]\n",
      " [-0.08795997 -0.79258835  0.33608782  1.0930136   1.4749562 ]]\n"
     ]
    }
   ],
   "source": [
    "n_features=120\n",
    "n_labels=5\n",
    "weights=tf.Variable(tf.truncated_normal((n_features,n_labels)))\n",
    "init=tf.global_variables_initializer()\n",
    "with tf.Session() as sess:\n",
    "    sess.run(init)\n",
    "    print(sess.run(weights))"
   ]
  },
  {
   "cell_type": "code",
   "execution_count": 35,
   "metadata": {},
   "outputs": [
    {
     "name": "stdout",
     "output_type": "stream",
     "text": [
      "[0. 0. 0. 0. 0.]\n"
     ]
    }
   ],
   "source": [
    "n_features=5\n",
    "biases=tf.Variable(tf.zeros(n_features))\n",
    "init=tf.global_variables_initializer()\n",
    "with tf.Session() as sess:\n",
    "    sess.run(init)\n",
    "    print(sess.run(biases))"
   ]
  },
  {
   "cell_type": "markdown",
   "metadata": {},
   "source": [
    "## Tensorflow softmax"
   ]
  },
  {
   "cell_type": "code",
   "execution_count": 38,
   "metadata": {},
   "outputs": [],
   "source": [
    "x=tf.nn.softmax([2.0,1.0,0.2])"
   ]
  },
  {
   "cell_type": "code",
   "execution_count": 59,
   "metadata": {},
   "outputs": [
    {
     "name": "stdout",
     "output_type": "stream",
     "text": [
      "[8.5330443e-17 3.0590220e-07 9.9999964e-01 8.5330443e-17 4.1399364e-08]\n"
     ]
    }
   ],
   "source": [
    "## Example\n",
    "##gives a probability value\n",
    "\n",
    "def run():\n",
    "    logits_data=[23,45,60,23,43]\n",
    "    logits=tf.placeholder(tf.float32)\n",
    "    \n",
    "    #calculate the softmax for the logits\n",
    "    softmax=tf.nn.softmax(logits)\n",
    "    \n",
    "    with tf.Session() as sess:\n",
    "        sess.run(init)\n",
    "        output=sess.run(softmax,feed_dict={logits:logits_data})\n",
    "        return output\n",
    "    \n",
    "print(run())"
   ]
  },
  {
   "cell_type": "markdown",
   "metadata": {},
   "source": [
    "## One hot encoder"
   ]
  },
  {
   "cell_type": "code",
   "execution_count": 52,
   "metadata": {},
   "outputs": [
    {
     "name": "stdout",
     "output_type": "stream",
     "text": [
      "33\n"
     ]
    }
   ],
   "source": [
    "##Reduce sum\n",
    "x=tf.reduce_sum([3,4,5,6,7,8])\n",
    "with tf.Session() as sess:\n",
    "    sess.run(init)\n",
    "    print(sess.run(x))"
   ]
  },
  {
   "cell_type": "code",
   "execution_count": 56,
   "metadata": {},
   "outputs": [
    {
     "name": "stdout",
     "output_type": "stream",
     "text": [
      "4.6051702\n"
     ]
    }
   ],
   "source": [
    "##Natural log\n",
    "l=tf.log(100.0)\n",
    "with tf.Session() as sess:\n",
    "    sess.run(init)\n",
    "    print(sess.run(l))"
   ]
  },
  {
   "cell_type": "code",
   "execution_count": 65,
   "metadata": {},
   "outputs": [
    {
     "name": "stdout",
     "output_type": "stream",
     "text": [
      "2.65926\n"
     ]
    }
   ],
   "source": [
    "softmax_data=[0.7,0.2,0.1]\n",
    "one_hot_data=[1.0,0.0,1.0]\n",
    "\n",
    "softmax=tf.placeholder(tf.float32)\n",
    "one_hot=tf.placeholder(tf.float32)\n",
    "\n",
    "\n",
    "#print cross-entropy from session\n",
    "cross_entropy=-tf.reduce_sum(tf.multiply(one_hot,tf.log(softmax)))\n",
    "\n",
    "with tf.Session() as sess:\n",
    "    sess.run(init)\n",
    "    output=sess.run(cross_entropy,feed_dict={one_hot:one_hot_data,softmax:softmax_data})\n",
    "    print(output)"
   ]
  }
 ],
 "metadata": {
  "kernelspec": {
   "display_name": "Python 3",
   "language": "python",
   "name": "python3"
  },
  "language_info": {
   "codemirror_mode": {
    "name": "ipython",
    "version": 3
   },
   "file_extension": ".py",
   "mimetype": "text/x-python",
   "name": "python",
   "nbconvert_exporter": "python",
   "pygments_lexer": "ipython3",
   "version": "3.6.9"
  }
 },
 "nbformat": 4,
 "nbformat_minor": 4
}
